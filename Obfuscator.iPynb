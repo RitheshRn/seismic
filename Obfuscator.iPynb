import json

def Initializer():
    # set of string
    pii = dict()
    reference = dict()
    ref_type = dict()

    pii['Address'] = 0
    reference[0] = dict()
    ref_type[0] = 'Address'

    pii['SSN'] = 1
    reference[1] = dict()
    ref_type[1] = 'SSN'

    pii['Phone'] = 2
    reference[2] = dict()
    ref_type[2] = 'Phone'

    pii['Email'] = 3
    reference[3] = dict()
    ref_type[3] = 'Email'

    pii['UserName'] = 4
    reference[4] = dict()
    ref_type[4] = 'UserName'
    
    reference_counters = [0]*len(pii)
    return pii, reference, ref_type, reference_counters
    
    def getnext(n, reference_counters):
    cur = reference_counters[n] + 1
    reference_counters[n] = cur
    res = str(ref_type[n])+str(cur)
    return res , reference_counters
    
    def Obfuscate(input_file,output_file):
    """
    Function to Obfuscate file!
    Input : JSON file
    Output : JSON file(Obfuscated)
    
    """
    
    
    #Read a JSON file
    with open(input_file,'r+') as json_file: 
        data1 = json.load(json_file)
    
    #Initialize all the required parameters
    pii, reference, ref_type, reference_counters = Initializer()
    
    #For each entry in JSON
    for j in range(len(data1)):
        
        #For each field in JSON entry
        for i in data1[j]:
            if i in pii:
                index = pii[i]
                cur_val = data1[j][i]
                
                #If the field has already encountered before
                #then retrieve and update the value ELSE create a new value and insert
                if cur_val in reference[index]:
                    data1[j][i] = reference[index][cur_val]
                else:
                    reference[index][cur_val], reference_counters = getnext(pii[i], reference_counters)
                    data1[j][i] = reference[index][cur_val]
    
    #Write the output to JSON file
    with open(output_file, 'w') as outfile:
        #print(data1)
        json.dump(data1, outfile)
    
Obfuscate('data50.json', 'output_data50.json')
